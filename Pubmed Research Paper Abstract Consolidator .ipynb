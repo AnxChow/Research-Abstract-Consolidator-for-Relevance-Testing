{
 "cells": [
  {
   "cell_type": "code",
   "execution_count": 55,
   "metadata": {},
   "outputs": [],
   "source": [
    "# importing the necessary packages\n",
    "import requests\n",
    "from bs4 import BeautifulSoup\n",
    "import pandas as pd\n",
    "import re\n",
    "import csv"
   ]
  },
  {
   "cell_type": "code",
   "execution_count": 56,
   "metadata": {},
   "outputs": [],
   "source": [
    "search_term1=\"COVID-19\"\n",
    "search_term2=\"neurologic manifestations\"\n",
    "# url=\"https://pubmed.ncbi.nlm.nih.gov/?term=%22{}%22+%22{}%22&size=200\".format(search_term1,search_term2) #w/ quotes\n",
    "url=\"https://pubmed.ncbi.nlm.nih.gov/?term={search1}+{search2}&size=200\".format(search1=search_term1,search2=search_term2) #no quotes\n",
    "url2=\"https://pubmed.ncbi.nlm.nih.gov/\"\n",
    "\n",
    "r1 = requests.get(url)\n",
    "all_papers = r1.content\n",
    "\n",
    "soup1 = BeautifulSoup(all_papers, 'html5lib')\n",
    "\n",
    "papers = soup1.find_all('a', class_='labs-docsum-title')\n",
    "\n",
    "link_abstracts=[]\n",
    "# link2=url2+papers[1]['href']\n",
    "# print(link2)\n",
    "# r2 = requests.get(link2)\n",
    "# paper_content = r2.content\n",
    "# soup2 = BeautifulSoup(paper_content, 'html5lib')\n",
    "# title=soup2.find_all('title')\n",
    "# print(title)\n",
    "# keyword=soup2.find_all('p')\n",
    "# for x in keyword:\n",
    "#     if x.find(text=re.compile(\"Keyword\")):\n",
    "#         clean = re.compile('<.*?>')\n",
    "#         print(re.sub(clean, '', str(x)))\n",
    "# # print(keyword)"
   ]
  },
  {
   "cell_type": "code",
   "execution_count": 57,
   "metadata": {},
   "outputs": [],
   "source": [
    "# from https://medium.com/@jorlugaqui/how-to-strip-html-tags-from-a-string-in-python-7cb81a2bbf44\n",
    "def remove_html_tags(text):\n",
    "    \"\"\"Remove html tags from a string\"\"\"\n",
    "    clean = re.compile('<.*?>')\n",
    "    return re.sub(clean, '', text)\n",
    "\n",
    "def remove_line(text):\n",
    "    text_new = text.replace('\\n','')\n",
    "    return text_new"
   ]
  },
  {
   "cell_type": "code",
   "execution_count": 58,
   "metadata": {},
   "outputs": [],
   "source": [
    "for paper in papers:\n",
    "    link=url2+paper['href']\n",
    "    r2 = requests.get(link)\n",
    "    paper_content = r2.content\n",
    "    soup2 = BeautifulSoup(paper_content, 'html5lib')\n",
    "    abstract = soup2.find_all('div', class_='abstract-content')\n",
    "    title=soup2.find_all('title')\n",
    "    keyword=soup2.find_all('p')\n",
    "    if not bool(abstract):\n",
    "        abstract_text='No Abstract'\n",
    "    else: \n",
    "        raw_text = str(abstract)\n",
    "        raw_text2 = remove_html_tags(raw_text)\n",
    "        abstract_text=remove_line(raw_text2)\n",
    "    \n",
    "    keyword_text='No Keywords'\n",
    "    for x in keyword:\n",
    "        if x.find(text=re.compile(\"Keyword\")):\n",
    "            raw_text = str(x)\n",
    "            raw_text2 = remove_html_tags(raw_text)\n",
    "            keyword_text=remove_line(raw_text2)\n",
    "\n",
    "    raw_text = str(title)\n",
    "    raw_text2 = remove_html_tags(raw_text)\n",
    "    title_text=remove_line(raw_text2)\n",
    "    \n",
    "    link_abstracts.append(tuple([title_text, keyword_text, abstract_text, link]))"
   ]
  },
  {
   "cell_type": "code",
   "execution_count": 59,
   "metadata": {},
   "outputs": [
    {
     "name": "stdout",
     "output_type": "stream",
     "text": [
      "done\n"
     ]
    }
   ],
   "source": [
    "\n",
    "filename=\"COVID-19+neuro_manifestations\"\n",
    "file_ext=filename+\".csv\"\n",
    "\n",
    "with open(file_ext, 'w') as csvfile:\n",
    "        writer = csv.writer(csvfile)\n",
    "        writer.writerow(['title','keyword','abstract','link'])\n",
    "        for row in link_abstracts:\n",
    "            writer.writerow(row)\n",
    "            \n",
    "print('done')"
   ]
  },
  {
   "cell_type": "code",
   "execution_count": null,
   "metadata": {},
   "outputs": [],
   "source": []
  }
 ],
 "metadata": {
  "kernelspec": {
   "display_name": "Python 3",
   "language": "python",
   "name": "python3"
  },
  "language_info": {
   "codemirror_mode": {
    "name": "ipython",
    "version": 3
   },
   "file_extension": ".py",
   "mimetype": "text/x-python",
   "name": "python",
   "nbconvert_exporter": "python",
   "pygments_lexer": "ipython3",
   "version": "3.7.3"
  }
 },
 "nbformat": 4,
 "nbformat_minor": 4
}
