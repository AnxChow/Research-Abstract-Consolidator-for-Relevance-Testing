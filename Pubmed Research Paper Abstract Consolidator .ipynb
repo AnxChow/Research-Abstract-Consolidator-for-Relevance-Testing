{
 "cells": [
  {
   "cell_type": "code",
   "execution_count": 70,
   "metadata": {},
   "outputs": [],
   "source": [
    "# importing the necessary packages\n",
    "import requests\n",
    "from bs4 import BeautifulSoup\n",
    "import pandas as pd\n",
    "import re\n",
    "import csv"
   ]
  },
  {
   "cell_type": "code",
   "execution_count": 71,
   "metadata": {},
   "outputs": [],
   "source": [
    "search_term1=\"COVID\"\n",
    "search_term2=\"stroke\"\n",
    "url=\"https://pubmed.ncbi.nlm.nih.gov/?term=%22{}%22+%22{}%22&size=200\".format(search_term1,search_term2)\n",
    "url2=\"https://pubmed.ncbi.nlm.nih.gov/\"\n",
    "\n",
    "r1 = requests.get(url)\n",
    "all_papers = r1.content\n",
    "\n",
    "soup1 = BeautifulSoup(all_papers, 'html5lib')\n",
    "\n",
    "papers = soup1.find_all('a', class_='labs-docsum-title')\n",
    "\n",
    "link_abstracts={}\n",
    "\n",
    "for paper in papers:\n",
    "    link=url2+paper['href']\n",
    "    r2 = requests.get(link)\n",
    "    paper_content = r2.content\n",
    "    soup2 = BeautifulSoup(paper_content, 'html5lib')\n",
    "    abstract = soup2.find_all('div', class_='abstract-content')\n",
    "    if not bool(abstract):\n",
    "        continue\n",
    "    link_abstracts[link]=abstract[0]"
   ]
  },
  {
   "cell_type": "code",
   "execution_count": 72,
   "metadata": {},
   "outputs": [],
   "source": [
    "# from https://medium.com/@jorlugaqui/how-to-strip-html-tags-from-a-string-in-python-7cb81a2bbf44\n",
    "def remove_html_tags(text):\n",
    "    \"\"\"Remove html tags from a string\"\"\"\n",
    "    clean = re.compile('<.*?>')\n",
    "    re.sub(clean, '', text)\n",
    "    return text.replace('\\n', \"\")"
   ]
  },
  {
   "cell_type": "code",
   "execution_count": 75,
   "metadata": {},
   "outputs": [],
   "source": [
    "filename=\"COVID+stroke keywords\"\n",
    "file_ext=filename+\".csv\"\n",
    "for key in link_abstracts:\n",
    "    raw_text = str(link_abstracts[key])\n",
    "    abstract_text = remove_html_tags(raw_text)\n",
    "    link_abstracts[key] = abstract_text\n",
    "\n",
    "with open(file_ext, 'w') as csvfile:\n",
    "        writer = csv.writer(csvfile)\n",
    "        for key, value in link_abstracts.items():\n",
    "           writer.writerow([key, value])"
   ]
  },
  {
   "cell_type": "code",
   "execution_count": null,
   "metadata": {},
   "outputs": [],
   "source": []
  }
 ],
 "metadata": {
  "kernelspec": {
   "display_name": "Python 3",
   "language": "python",
   "name": "python3"
  },
  "language_info": {
   "codemirror_mode": {
    "name": "ipython",
    "version": 3
   },
   "file_extension": ".py",
   "mimetype": "text/x-python",
   "name": "python",
   "nbconvert_exporter": "python",
   "pygments_lexer": "ipython3",
   "version": "3.7.3"
  }
 },
 "nbformat": 4,
 "nbformat_minor": 4
}
